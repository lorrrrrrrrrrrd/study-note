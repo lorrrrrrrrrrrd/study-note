{
 "cells": [
  {
   "cell_type": "markdown",
   "metadata": {},
   "source": [
    "c\n",
    "在完成作业时 有一道多样例内含不同组数的题\n",
    "研究后发现 需要使用"
   ]
  },
  {
   "cell_type": "code",
   "execution_count": null,
   "metadata": {
    "vscode": {
     "languageId": "c"
    }
   },
   "outputs": [],
   "source": [
    "while(scanf(\"%d\",&a)!=EOF)//前有设置int a;"
   ]
  },
  {
   "cell_type": "markdown",
   "metadata": {},
   "source": [
    "该语句来进行代码中止 因为c语言规定 在读文件操作时 如果遇到文件结束位置就会返回EOF"
   ]
  },
  {
   "cell_type": "markdown",
   "metadata": {},
   "source": [
    "html\n",
    "昨天学了表单标签\n",
    "<input>\n",
    "<label>\n",
    "<select>\n",
    "<textarea>\n"
   ]
  },
  {
   "cell_type": "markdown",
   "metadata": {},
   "source": [
    "input是比较重要的 下是语法规定"
   ]
  },
  {
   "cell_type": "code",
   "execution_count": null,
   "metadata": {
    "vscode": {
     "languageId": "html"
    }
   },
   "outputs": [],
   "source": [
    "<input type='属性值' /> //是个单标签"
   ]
  },
  {
   "cell_type": "markdown",
   "metadata": {},
   "source": [
    "属性值有以下几种常用的"
   ]
  },
  {
   "cell_type": "markdown",
   "metadata": {},
   "source": [
    "button checkbox file password radio reset submit text"
   ]
  },
  {
   "cell_type": "markdown",
   "metadata": {},
   "source": [
    "还有 hidden image 但是不常用"
   ]
  },
  {
   "cell_type": "markdown",
   "metadata": {},
   "source": [
    "除type属性 还有其他属性\n",
    "name value checked maxlength"
   ]
  },
  {
   "cell_type": "markdown",
   "metadata": {},
   "source": [
    "然后是<label>表单标签 其虽不属于表单标签 但是经常和表单一起使用"
   ]
  },
  {
   "cell_type": "markdown",
   "metadata": {},
   "source": [
    "用于绑定一个表单标签 当点击<label>内文本时 会将光标转到对应的表单元素上 增加用户体验"
   ]
  },
  {
   "cell_type": "markdown",
   "metadata": {},
   "source": [
    "然后是<select>\n",
    "用于下拉标签元素"
   ]
  },
  {
   "cell_type": "code",
   "execution_count": null,
   "metadata": {
    "vscode": {
     "languageId": "html"
    }
   },
   "outputs": [],
   "source": [
    "<select>\n",
    "    <option>选项1</option>\n",
    "    <option>选项2</option>\n",
    "</select>"
   ]
  },
  {
   "cell_type": "markdown",
   "metadata": {},
   "source": [
    "然后是<textarea>\n",
    "在用户输入内容较多时可以使用这个"
   ]
  },
  {
   "cell_type": "code",
   "execution_count": null,
   "metadata": {
    "vscode": {
     "languageId": "html"
    }
   },
   "outputs": [],
   "source": [
    "今日反馈：\n",
    "        <textarea cols=\"3\" rows=\"3\">\n",
    "            请输入内容\n",
    "        </textarea>"
   ]
  },
  {
   "cell_type": "markdown",
   "metadata": {},
   "source": [
    "笔记比较简略 是因为自己写了一个网页 见12_6 内有所有上述标签详细说明"
   ]
  }
 ],
 "metadata": {
  "language_info": {
   "name": "python"
  },
  "orig_nbformat": 4
 },
 "nbformat": 4,
 "nbformat_minor": 2
}
