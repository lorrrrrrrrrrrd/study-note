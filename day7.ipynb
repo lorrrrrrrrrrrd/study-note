{
 "cells": [
  {
   "cell_type": "markdown",
   "metadata": {},
   "source": [
    "CSS\n",
    "文本颜色"
   ]
  },
  {
   "cell_type": "code",
   "execution_count": null,
   "metadata": {
    "vscode": {
     "languageId": "html"
    }
   },
   "outputs": [],
   "source": [
    "div{\n",
    "    color:red;&color:#ff0000;&color:rgb(255,0,0)\n",
    "}\n",
    "//都是把div内字体改成红色"
   ]
  },
  {
   "cell_type": "markdown",
   "metadata": {},
   "source": [
    "三种表现形式\n",
    "第一种预设颜色 第二种十六进制 第三种rgb"
   ]
  },
  {
   "cell_type": "markdown",
   "metadata": {},
   "source": [
    "文本对齐"
   ]
  },
  {
   "cell_type": "code",
   "execution_count": null,
   "metadata": {
    "vscode": {
     "languageId": "html"
    }
   },
   "outputs": [],
   "source": [
    "div{\n",
    "    text-align:center;\n",
    "}"
   ]
  },
  {
   "cell_type": "markdown",
   "metadata": {},
   "source": [
    "实现居中对齐"
   ]
  },
  {
   "cell_type": "markdown",
   "metadata": {},
   "source": [
    "left 文本排列到左边 默认值\n",
    "right 右边\n",
    "center 中间\n",
    "justify 两端对齐\n",
    "inherit 继承父元素"
   ]
  },
  {
   "cell_type": "markdown",
   "metadata": {},
   "source": [
    "装饰文本"
   ]
  },
  {
   "cell_type": "code",
   "execution_count": null,
   "metadata": {
    "vscode": {
     "languageId": "html"
    }
   },
   "outputs": [],
   "source": [
    "div{\n",
    "    text-decoration:underline;//下划线\n",
    "}"
   ]
  },
  {
   "cell_type": "markdown",
   "metadata": {},
   "source": [
    "underline下划线\n",
    "overline上划线\n",
    "line-throuth穿过文本的一条线\n",
    "blink闪烁文本\n",
    "inherit 继承父元素"
   ]
  },
  {
   "cell_type": "markdown",
   "metadata": {},
   "source": [
    "文本缩进\n",
    "text-indent"
   ]
  },
  {
   "cell_type": "code",
   "execution_count": null,
   "metadata": {
    "vscode": {
     "languageId": "html"
    }
   },
   "outputs": [],
   "source": [
    "div{\n",
    "    text-indent:20px;\n",
    "}\n",
    "//定义20像素的缩进"
   ]
  },
  {
   "cell_type": "markdown",
   "metadata": {},
   "source": [
    "length可以为负值 向左缩进\n",
    "em是一个相对单位 就是当前元素(font-size)一个文字的大小"
   ]
  },
  {
   "cell_type": "code",
   "execution_count": null,
   "metadata": {
    "vscode": {
     "languageId": "html"
    }
   },
   "outputs": [],
   "source": [
    "div{\n",
    "    font-size:16px;\n",
    "    text-indent:2em;\n",
    "}"
   ]
  },
  {
   "cell_type": "markdown",
   "metadata": {},
   "source": [
    "上述代码就是 缩进两个字 每个字16px\n",
    "如果没有指定文字大小 会默认按16px缩进"
   ]
  },
  {
   "cell_type": "markdown",
   "metadata": {},
   "source": [
    "行间距\n",
    "line-height"
   ]
  },
  {
   "cell_type": "code",
   "execution_count": null,
   "metadata": {
    "vscode": {
     "languageId": "html"
    }
   },
   "outputs": [],
   "source": [
    ".div1{\n",
    "    line-height:16px;\n",
    "}\n",
    ".div2{\n",
    "    line-height:26px;\n",
    "}"
   ]
  },
  {
   "cell_type": "markdown",
   "metadata": {},
   "source": [
    "div1 16px的行间距 并不能看出来 因为文字本身大小就是16px 行间距上下为0\n",
    "26px的行间距 上下各为5 具体图片演示见typora"
   ]
  }
 ],
 "metadata": {
  "language_info": {
   "name": "python"
  },
  "orig_nbformat": 4
 },
 "nbformat": 4,
 "nbformat_minor": 2
}
