{
 "cells": [
  {
   "attachments": {},
   "cell_type": "markdown",
   "metadata": {},
   "source": [
    "CSS的三种样式表\n",
    "内部样式表（嵌入式）\n",
    "行内样式表（内联样式表）\n",
    "外部样式表"
   ]
  },
  {
   "attachments": {},
   "cell_type": "markdown",
   "metadata": {},
   "source": [
    "内部样式表 即在html内部写样式 单独包含在style标签里\n",
    "之前的练习一类 都属于内部样式表\n",
    "代码结构清晰 但没有实现样式与结构的完全分离"
   ]
  },
  {
   "attachments": {},
   "cell_type": "markdown",
   "metadata": {},
   "source": [
    "行内样式表 用于单独设置某一个标签的样式\n",
    "比如在一个div盒子里 有十行p\n",
    "我只想更改最后一个p的颜色 我就可以如此使用"
   ]
  },
  {
   "cell_type": "code",
   "execution_count": null,
   "metadata": {
    "vscode": {
     "languageId": "html"
    }
   },
   "outputs": [],
   "source": [
    "<p style=\"color:red;\">example</p>"
   ]
  },
  {
   "attachments": {},
   "cell_type": "markdown",
   "metadata": {},
   "source": [
    "这样我就将我想更改的p 改成了红色"
   ]
  },
  {
   "attachments": {},
   "cell_type": "markdown",
   "metadata": {},
   "source": [
    "没有实现结构与样式分离 应较少使用 我在后续编写网页的过程中大量使用了内联样式表 导致我很难在调试过程中进行操作"
   ]
  },
  {
   "attachments": {},
   "cell_type": "markdown",
   "metadata": {},
   "source": [
    "外部样式表 开发中使用最多\n",
    "在使用时需要引用"
   ]
  },
  {
   "cell_type": "code",
   "execution_count": null,
   "metadata": {
    "vscode": {
     "languageId": "html"
    }
   },
   "outputs": [],
   "source": [
    "<link rel=\"stylesheet\" href=\"css文件路径\">"
   ]
  },
  {
   "attachments": {},
   "cell_type": "markdown",
   "metadata": {},
   "source": [
    "用于样式较多的情况 rel是relationship的缩写"
   ]
  },
  {
   "attachments": {},
   "cell_type": "markdown",
   "metadata": {},
   "source": [
    "使用F12可以打开调试工具 具体出现的问题见typora"
   ]
  },
  {
   "attachments": {},
   "cell_type": "markdown",
   "metadata": {},
   "source": [
    "Emmet语法\n",
    "今天在练习过程中基本都使用了emmet语法\n",
    "举例几个简单的例子\n",
    "我要批量生成十个div盒子\n",
    "div*10\n",
    "我想生成一个类名为nav的div盒子\n",
    "div.nav\n",
    "id为nav\n",
    "div#nav\n",
    "CSS样式语法简写\n",
    "w200代表width:200px;\n",
    "lh26d代表line-height:26px;"
   ]
  },
  {
   "attachments": {},
   "cell_type": "markdown",
   "metadata": {},
   "source": [
    "CSS的复合选择器\n",
    "复合选择器建立在基础选择器智商\n",
    "复合选择器可以更准确 高效的选择目标元素或标签\n",
    "复合选择器是由两个或多个基础选择器 通过不同方式组合而成的"
   ]
  },
  {
   "attachments": {},
   "cell_type": "markdown",
   "metadata": {},
   "source": [
    "后代选择器\n",
    "后代选择器又称包含选择器\n",
    "可以从父元素里选择所有子元素\n"
   ]
  },
  {
   "cell_type": "code",
   "execution_count": null,
   "metadata": {
    "vscode": {
     "languageId": "html"
    }
   },
   "outputs": [],
   "source": [
    "div span{\n",
    "    \n",
    "}"
   ]
  },
  {
   "attachments": {},
   "cell_type": "markdown",
   "metadata": {},
   "source": [
    "上述代码即选择div里的所有span标签\n",
    "在大括号内进行样式声明\n",
    "元素1 元素2 ...空格隔开\n",
    "元素1父 元素2...子 最终选择最终元素"
   ]
  },
  {
   "attachments": {},
   "cell_type": "markdown",
   "metadata": {},
   "source": [
    "如果出现同类情况 比如"
   ]
  },
  {
   "cell_type": "code",
   "execution_count": null,
   "metadata": {
    "vscode": {
     "languageId": "html"
    }
   },
   "outputs": [],
   "source": [
    "<ol>\n",
    "    <li>1</li>\n",
    "    <li>2</li>\n",
    "</ol>\n",
    "<ol>\n",
    "    <li>3</li>\n",
    "    <li class=\"nav\">4</li>\n",
    "</ol>"
   ]
  },
  {
   "attachments": {},
   "cell_type": "markdown",
   "metadata": {},
   "source": [
    "我只想更改第四个li的颜色 我可以给其添加一个类名"
   ]
  },
  {
   "cell_type": "code",
   "execution_count": null,
   "metadata": {
    "vscode": {
     "languageId": "html"
    }
   },
   "outputs": [],
   "source": [
    "ol .nav{\n",
    "    color:color;\n",
    "}"
   ]
  },
  {
   "attachments": {},
   "cell_type": "markdown",
   "metadata": {},
   "source": [
    "这样我就做到了只更改第四个li的颜色"
   ]
  },
  {
   "attachments": {},
   "cell_type": "markdown",
   "metadata": {},
   "source": [
    "子选择器 只能选择作为某元素的最近一级子元素 也就是只选择亲儿子"
   ]
  },
  {
   "cell_type": "code",
   "execution_count": null,
   "metadata": {
    "vscode": {
     "languageId": "html"
    }
   },
   "outputs": [],
   "source": [
    "<div class=\"nav\"><a href=\"#\">qwe</a></div>\n",
    "<div class=\"nav\">\n",
    "    <p>\n",
    "        <a href=\"#\">qwe</a>\n",
    "    </p>\n",
    "</div>"
   ]
  },
  {
   "attachments": {},
   "cell_type": "markdown",
   "metadata": {},
   "source": [
    "在上述代码中 我是用子选择器"
   ]
  },
  {
   "cell_type": "code",
   "execution_count": null,
   "metadata": {
    "vscode": {
     "languageId": "html"
    }
   },
   "outputs": [],
   "source": [
    ".nav>a {\n",
    "    color:red;\n",
    "}"
   ]
  },
  {
   "attachments": {},
   "cell_type": "markdown",
   "metadata": {},
   "source": [
    "将会只更改第一个a 而第二个a因为在p中 不会被更改"
   ]
  },
  {
   "attachments": {},
   "cell_type": "markdown",
   "metadata": {},
   "source": [
    "并集选择器\n",
    "并集选择器可以选择多组标签 同时为他们定义相同的样式 通常用于集体声明"
   ]
  },
  {
   "cell_type": "code",
   "execution_count": null,
   "metadata": {
    "vscode": {
     "languageId": "html"
    }
   },
   "outputs": [],
   "source": [
    "div,p{\n",
    "    color:red;\n",
    "}"
   ]
  },
  {
   "attachments": {},
   "cell_type": "markdown",
   "metadata": {},
   "source": [
    "用,链接 任何形式的选择器都可以称为并集选择器的一部分"
   ]
  },
  {
   "cell_type": "code",
   "execution_count": null,
   "metadata": {
    "vscode": {
     "languageId": "html"
    }
   },
   "outputs": [],
   "source": [
    "<div>熊大</div>\n",
    "<p>熊二</p>\n",
    "<span>光头强</span>\n",
    "<ul class=\"pig\">\n",
    "    <li>猪</li>\n",
    "    <li>猪爸爸</li>\n",
    "    <li>猪妈妈</li>\n",
    "</ul>"
   ]
  },
  {
   "attachments": {},
   "cell_type": "markdown",
   "metadata": {},
   "source": [
    "将熊大熊二和小猪一家改成粉色"
   ]
  },
  {
   "cell_type": "code",
   "execution_count": null,
   "metadata": {
    "vscode": {
     "languageId": "html"
    }
   },
   "outputs": [],
   "source": [
    "div,p,.pig li{\n",
    "    color:pink;\n",
    "}\n",
    "//内涵一个后代选择器"
   ]
  },
  {
   "attachments": {},
   "cell_type": "markdown",
   "metadata": {},
   "source": [
    "伪类选择器 链接伪类\n",
    "用于向某些选择器添加特殊的效果 比如给链接添加特殊效果 或选择第一个...第n个元素\n",
    "用:表示"
   ]
  },
  {
   "attachments": {},
   "cell_type": "markdown",
   "metadata": {},
   "source": [
    "a:link 选择所有未被访问的链接\n",
    "a:visited 选择所有已被访问的链接\n",
    "a:hover 选择鼠标指针位于其上的链接\n",
    "a:active 选择活动链接（鼠标按下未弹起的链接）"
   ]
  },
  {
   "attachments": {},
   "cell_type": "markdown",
   "metadata": {},
   "source": [
    "注意 为了确保生效 应按照LHVA的顺序来声明\n",
    "即 link hover visited active\n",
    "a链接在浏览器中都具有默认样式 所以我们需要给链接单独指定样式（类似标题的font-size）"
   ]
  },
  {
   "attachments": {},
   "cell_type": "markdown",
   "metadata": {},
   "source": [
    "focus伪类选择器 用于选取获得焦点的表单元素"
   ]
  },
  {
   "cell_type": "code",
   "execution_count": null,
   "metadata": {
    "vscode": {
     "languageId": "html"
    }
   },
   "outputs": [],
   "source": [
    "input:focus{\n",
    "    background:yellow;\n",
    "}"
   ]
  },
  {
   "attachments": {},
   "cell_type": "markdown",
   "metadata": {},
   "source": [
    "获得光标的text属性input标签 背景将会被改为黄色"
   ]
  },
  {
   "attachments": {},
   "cell_type": "markdown",
   "metadata": {},
   "source": [
    "CSS元素显示模式\n",
    "块元素\n",
    "自己独占一行 高 宽 外边距内边距都可以控制\n",
    "宽度默认是父级宽度\n",
    "是一个容器及盒子 里面可以放行内或块级元素\n",
    "如<h1> <p> <div> <ul>\n",
    "注意 文字类的元素内不能使用块级元素\n",
    "<p> 里存放文字 就不能再放div了\n",
    "h1也同理"
   ]
  },
  {
   "attachments": {},
   "cell_type": "markdown",
   "metadata": {},
   "source": [
    "行内元素\n",
    "<a> <strong> <b> <em>\n",
    "<span>是最经典的行内元素 有点地方也将行内元素称为内联元素\n",
    "相邻行内元素在一行上 一行上可以设置多个\n",
    "宽高直接设置是无效的\n",
    "默认宽度就是本身内容宽度\n",
    "行内元素只能容纳文本或其他行内元素\n",
    "注意\n",
    "链接里面不能在放链接\n",
    "特殊情况a里面可以放块级元素 但是给a转换一下块级模式最安全"
   ]
  },
  {
   "attachments": {},
   "cell_type": "markdown",
   "metadata": {},
   "source": [
    "行内块元素\n",
    "<img/> <input/> <td>\n",
    "他们同时具有块元素和行内元素的特点\n",
    "一行上可以有多个 和相邻行内元素显示在一行上 中间会有空白缝隙\n",
    "默认宽度就是他本身的宽度\n",
    "宽度 高度 外边距内边距都可以控制 这是块级元素的特点"
   ]
  },
  {
   "attachments": {},
   "cell_type": "markdown",
   "metadata": {},
   "source": [
    "元素显示模式转换\n",
    "特殊情况下 我们需要元素模式的转换\n",
    "简单理解为 一个模式的元素需要另外一种模式的特性\n",
    "比如我想要增加a的触发范围 我可以把他更改成块级元素 然后更改他的宽高 做到增加他的触发范围"
   ]
  },
  {
   "cell_type": "code",
   "execution_count": null,
   "metadata": {
    "vscode": {
     "languageId": "html"
    }
   },
   "outputs": [],
   "source": [
    "a {\n",
    "    display:block;\n",
    "    width:200px;\n",
    "    height:26px;\n",
    "}"
   ]
  },
  {
   "attachments": {},
   "cell_type": "markdown",
   "metadata": {},
   "source": [
    "display:inline;转化为行内元素\n",
    "display:inline-block;转化为行内块"
   ]
  },
  {
   "attachments": {},
   "cell_type": "markdown",
   "metadata": {},
   "source": [
    "在12_9制作新闻网页时发现\n",
    "\n",
    "会优先从血缘关系更近的标签继承格式 再从血缘关系较远的标签继承格式\n",
    "\n",
    "标题标签很特殊 他不能从父继承文字大小 但是可以继承行间距 所以标题标签容易造成“穿刺”\n",
    "\n",
    "如果我想以12_9时的能力让图片居中\n",
    "\n",
    "我可以让他的父标签添加一个文本居中的格式"
   ]
  }
 ],
 "metadata": {
  "language_info": {
   "name": "python"
  },
  "orig_nbformat": 4
 },
 "nbformat": 4,
 "nbformat_minor": 2
}
