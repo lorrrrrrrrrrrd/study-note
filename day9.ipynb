{
 "cells": [
  {
   "cell_type": "code",
   "execution_count": null,
   "metadata": {},
   "outputs": [],
   "source": [
    "CSS\n",
    "背景颜色background-color"
   ]
  },
  {
   "attachments": {},
   "cell_type": "markdown",
   "metadata": {},
   "source": [
    "background-color:transparent|color"
   ]
  },
  {
   "attachments": {},
   "cell_type": "markdown",
   "metadata": {},
   "source": [
    "transparent背景色透明\n",
    "color:指定颜色"
   ]
  },
  {
   "attachments": {},
   "cell_type": "markdown",
   "metadata": {},
   "source": [
    "背景图片background-image\n"
   ]
  },
  {
   "attachments": {},
   "cell_type": "markdown",
   "metadata": {},
   "source": [
    "background-image:none|url(url)"
   ]
  },
  {
   "attachments": {},
   "cell_type": "markdown",
   "metadata": {},
   "source": [
    "常见于logo或一些装饰性的小图片 或者超大的背景图片\n",
    "优点是非常便于控制"
   ]
  },
  {
   "attachments": {},
   "cell_type": "markdown",
   "metadata": {},
   "source": [
    "背景平铺\n",
    "background-repeat"
   ]
  },
  {
   "attachments": {},
   "cell_type": "markdown",
   "metadata": {},
   "source": [
    "background-repeat:repeat|no-repeat|repeat-x|repeat-y;"
   ]
  },
  {
   "attachments": {},
   "cell_type": "markdown",
   "metadata": {},
   "source": [
    "repeat : 　背景图像在纵向和横向上平铺\n",
    "no-repeat : 　背景图像不平铺\n",
    "repeat-x :  背景图像在横向上平铺\n",
    "repeat-y : 　背景图像在纵向平铺 "
   ]
  },
  {
   "attachments": {},
   "cell_type": "markdown",
   "metadata": {},
   "source": [
    "背景图片位置\n",
    "background-position"
   ]
  },
  {
   "attachments": {},
   "cell_type": "markdown",
   "metadata": {},
   "source": [
    "background-position:x y;"
   ]
  },
  {
   "attachments": {},
   "cell_type": "markdown",
   "metadata": {},
   "source": [
    "后面的参数可以是方位名词也可以是精确单位\n",
    "position : 　top | center | bottom | left | center | right "
   ]
  },
  {
   "attachments": {},
   "cell_type": "markdown",
   "metadata": {},
   "source": [
    "如果写的是方位名词 比如"
   ]
  },
  {
   "attachments": {},
   "cell_type": "markdown",
   "metadata": {},
   "source": [
    "background-position:center top&&top center;"
   ]
  },
  {
   "attachments": {},
   "cell_type": "markdown",
   "metadata": {},
   "source": [
    "两种代码实现效果一样 方位名词不分先后顺序\n",
    "如果只制定了一个方位名词 第二个省略 那么第二个默认居中对齐"
   ]
  },
  {
   "attachments": {},
   "cell_type": "markdown",
   "metadata": {},
   "source": [
    "如果参数值是精确坐标 那么第一个一定是x 第二个是y\n",
    "如果省略了第二个 也就是只写一个数值 那么那个数值一定是x 第二个默认垂直居中"
   ]
  },
  {
   "attachments": {},
   "cell_type": "markdown",
   "metadata": {},
   "source": [
    "参数可以是混合单位 精确单位和方位名词混用\n",
    "第一个一定是x坐标 第二个一定是y坐标"
   ]
  },
  {
   "attachments": {},
   "cell_type": "markdown",
   "metadata": {},
   "source": [
    "在正常数学坐标轴中 x向右移动增加 y向上移动增加\n",
    "在css的图片移动中我发现\n",
    "x值为正 向右移动 y值为正 向下移动\n",
    "y轴上和数学是相反的 "
   ]
  },
  {
   "attachments": {},
   "cell_type": "markdown",
   "metadata": {},
   "source": [
    "背景图片固定\n",
    "background-attachment\n",
    "attachment附着"
   ]
  },
  {
   "attachments": {},
   "cell_type": "markdown",
   "metadata": {},
   "source": [
    "background-attachment:scroll|fixed"
   ]
  },
  {
   "attachments": {},
   "cell_type": "markdown",
   "metadata": {},
   "source": [
    "scroll:背景图片是随对象内容滚动\n",
    "fixed:背景图像固定\n",
    "改成fixed 就固定在某个地方 图片不随着滚轮滑动发生移动\n",
    "默认是scroll"
   ]
  },
  {
   "attachments": {},
   "cell_type": "markdown",
   "metadata": {},
   "source": [
    "背景复合写法 和font复合写法很像\n",
    "但是其没有特定书写顺序\n",
    "大体按照如下顺序\n",
    "背景颜色 图片地址 平铺 图像滚动 位置"
   ]
  },
  {
   "attachments": {},
   "cell_type": "markdown",
   "metadata": {},
   "source": [
    "background:color (url) repeat\\no-repeat\\x\\y scroll\\fixed x y;"
   ]
  },
  {
   "attachments": {},
   "cell_type": "markdown",
   "metadata": {},
   "source": [
    "背景色半透明 在CSS3中支持"
   ]
  },
  {
   "attachments": {},
   "cell_type": "markdown",
   "metadata": {},
   "source": [
    "background:rgba(0,0,0,0,3);\n",
    "weight:200px;\n",
    "height:200px;"
   ]
  },
  {
   "attachments": {},
   "cell_type": "markdown",
   "metadata": {},
   "source": [
    "上述代码就是制造一个纯黑色的 透明度0.3的黑块\n",
    "a是alpha的简写 透明度的意思\n",
    "a的取值范围在0~1之间"
   ]
  },
  {
   "attachments": {},
   "cell_type": "markdown",
   "metadata": {},
   "source": [
    "如果要做到文字居中显示 可以使文字的行高等于盒子的高度\n",
    "比如盒子高40px,文字行高也40 文字如果大小是20px 那么上间距为10 下间距为10 就自动把文字挤到中间了"
   ]
  },
  {
   "cell_type": "code",
   "execution_count": null,
   "metadata": {
    "vscode": {
     "languageId": "c"
    }
   },
   "outputs": [],
   "source": [
    "#define _CRT_SECURE_NO_WARNINGS 1\n",
    "#include<stdio.h>\n",
    "int judge(int arr[],int n) //用于判断是否是二段数\n",
    "{\n",
    "    int i = 0;\n",
    "    int count1 = 0;\n",
    "    for (i = 0; i < 19; i++)\n",
    "    {\n",
    "        if (n < 10)\n",
    "            return 0;//不是二段数\n",
    "        if (arr[i + 1] != 10 && arr[i] != arr[i + 1])\n",
    "        {\n",
    "            count1++;\n",
    "        }\n",
    "        if (count1 > 1)\n",
    "            return 0;//不是二段数\n",
    "    }\n",
    "    if (count1 == 1)\n",
    "        return 1;//返回1是二段数\n",
    "    if (count1 == 0) {\n",
    "        return 2;\n",
    "    }\n",
    "//返回1是二段数\n",
    "}\n",
    "void initArr(int arr[])//初始化arr 每个arr都是10\n",
    "{\n",
    "    int i = 0;\n",
    "    for (i = 0; i < 20; i++)\n",
    "    {\n",
    "        arr[i] = 10;\n",
    "    }\n",
    "}\n",
    "void package(int n,int* arr)//把num每次都重新分装进来判断 倒着装\n",
    "{\n",
    "    \n",
    "    int i = 0;\n",
    "    while (n / 10 > 0)\n",
    "    {\n",
    "        *(arr+i) = n % 10;\n",
    "        n /= 10;\n",
    "        i++;\n",
    "    }\n",
    "    *(arr + i) = n;\n",
    "    //比如一个数字是98555 先存5 5 5 8 9 10 10 10 10\n",
    "}\n",
    "int main() {\n",
    "    //s!=0 s!=t t!=0 随机填充s和t的数量 让sssstttt%n==0\n",
    "    int n = -1;\n",
    "    int num = 10;\n",
    "    int multiple;\n",
    "    int arr[20];\n",
    "    while (n) {\n",
    "        scanf(\"%d\", &n);\n",
    "        for (multiple = 1; multiple < 999999999&&n>=1; multiple++, num =n* multiple)\n",
    "        {\n",
    "            initArr(arr);\n",
    "            num = n * multiple;\n",
    "            package(num,arr);\n",
    "            int a = judge(arr,num);\n",
    "            if (a == 2)\n",
    "            {\n",
    "                num *= 10;\n",
    "                printf(\"%d:%d\", n, num);\n",
    "                printf(\"\\n\");\n",
    "                break;\n",
    "            }\n",
    "            if (a == 1 && num % n == 0 && num >= 10)\n",
    "            {\n",
    "                printf(\"%d:%d\", n, num);\n",
    "                printf(\"\\n\");\n",
    "                break;\n",
    "            }\n",
    "        } \n",
    "    }\n",
    "    return 0;\n",
    "}"
   ]
  },
  {
   "attachments": {},
   "cell_type": "markdown",
   "metadata": {},
   "source": [
    "这是一个最小二段数问题\n",
    "描述\n",
    "小乐乐从老师口中听到了二段数这个名词，想更深入的了解二段数。\n",
    "\n",
    "二段数是这样的正整数：恰好包含两种不同的十进制数字s和t，s不是0，并且s的所有出现均排列在所有的t的前面。例如，44444411是二段数（s是4，t是1），41、10000000和5555556也是。但4444114和44444都不是二段数。\n",
    "\n",
    "这时老师问小乐乐：给你一个任意的正整数n，你能求出比n大并且是n的倍数的最小二段数吗？请你帮助小乐乐解答这个问题。\n",
    "\n",
    "输入描述：\n",
    "多组输入，每组输入包含一个正整数n (1 ≤ n ≤ 99999)\n",
    "\n",
    "题目保证测试数据总数不超过500组，当输入n=0时程序结束。\n",
    "输出描述：\n",
    "对于每组测试用例，输出正整数n，后面紧跟“: ”，输出答案并换行，即比n大且是n的倍数的最小二段数。"
   ]
  },
  {
   "attachments": {},
   "cell_type": "markdown",
   "metadata": {},
   "source": [
    "https://www.nowcoder.com/practice/2d1c4b3e708548099c75b7818b816775?tpId=107&rp=1&ru=%2Fta%2Fbeginner-programmers&qru=%2Fta%2Fbeginner-programmers%2Fquestion-ranking&difficulty=&judgeStatus=&tags=&title=&sourceUrl=&gioEnter=menu"
   ]
  },
  {
   "attachments": {},
   "cell_type": "markdown",
   "metadata": {},
   "source": [
    "附链接\n",
    "我的代码能够实现小数字的运算\n",
    "如果我想运算2019的最小二段数 我可能需要等待500来分钟\n",
    "今天写这个代码已经给我干的头晕脑胀了\n",
    "我明天将会学习别人的程序 优化我的代码"
   ]
  }
 ],
 "metadata": {
  "language_info": {
   "name": "python"
  },
  "orig_nbformat": 4
 },
 "nbformat": 4,
 "nbformat_minor": 2
}
