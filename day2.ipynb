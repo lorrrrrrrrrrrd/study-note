{
 "cells": [
  {
   "cell_type": "markdown",
   "metadata": {},
   "source": [
    "c\n",
    "今天c语言学习的内容是数组方面的变长数组 在C99标准下引入了变长数组"
   ]
  },
  {
   "cell_type": "code",
   "execution_count": null,
   "metadata": {
    "vscode": {
     "languageId": "c"
    }
   },
   "outputs": [],
   "source": [
    "int n = 10;\n",
    "int arr[n];"
   ]
  },
  {
   "cell_type": "markdown",
   "metadata": {},
   "source": [
    "上述代码在c99标准下是可运行的"
   ]
  },
  {
   "cell_type": "markdown",
   "metadata": {},
   "source": [
    "同时今天还复习了枚举 enum"
   ]
  },
  {
   "cell_type": "code",
   "execution_count": null,
   "metadata": {
    "vscode": {
     "languageId": "c"
    }
   },
   "outputs": [],
   "source": [
    "enum Sex\n",
    "{\n",
    "    Male,\n",
    "    Female,\n",
    "    Secret\n",
    "};"
   ]
  },
  {
   "cell_type": "markdown",
   "metadata": {},
   "source": [
    "html\n",
    "今天学的是<div>、<span>和图像标签 记录 学习到了p20"
   ]
  },
  {
   "cell_type": "code",
   "execution_count": null,
   "metadata": {
    "vscode": {
     "languageId": "html"
    }
   },
   "outputs": [],
   "source": [
    "<div> 和 <span>相当于两个盒子 其中<div></div>是大盒子\n",
    "<span></span>是小盒子 跨行布局"
   ]
  },
  {
   "cell_type": "markdown",
   "metadata": {},
   "source": [
    "图像标签为<img src=\"\" />\n",
    "是一个单标签\n",
    "里面可以加五种属性\n",
    "alt用来添加突变无法显示时显示的文字 title用来添加光标放到图片上显示的文字 width用来更改图片像素宽度 height更改图片高度 border用来更改图片边框粗细\n",
    "height和width同时用可能会造成图片变扁 只更改其中一个 图片会自动缩放 效果更好\n",
    "需要注意的是 五个属性必须都放在src后面\n",
    "采取键值对格式 即key=\"value\"\n",
    "\n"
   ]
  },
  {
   "cell_type": "code",
   "execution_count": null,
   "metadata": {
    "vscode": {
     "languageId": "html"
    }
   },
   "outputs": [],
   "source": [
    "<img src=\"xxx\" alt=\"oops\" title=\"This is a picture\" width=\"500\" height=\"500\" border=\"15\""
   ]
  },
  {
   "cell_type": "markdown",
   "metadata": {},
   "source": [
    "上述代码描述的就是文件名为xxx的图片高500像素宽500像素边框粗细15像素 在图片无法显示时 显示oops 光标放在上面会显示This is a picture"
   ]
  },
  {
   "cell_type": "markdown",
   "metadata": {},
   "source": [
    "javascript\n",
    "今天首先学了四个函数push pop shift unshift\n",
    "push用来将数据添加到数组末尾\n",
    "pop用来弹出数组末尾值 即移出数组末尾元素并返回他\n",
    "shift用来移出数组第一个元素\n",
    "unshift用来将元素移入到数组头部"
   ]
  },
  {
   "cell_type": "code",
   "execution_count": null,
   "metadata": {
    "vscode": {
     "languageId": "javascript"
    }
   },
   "outputs": [],
   "source": [
    "const arr1 = [1,2,3,4,5,6];\n",
    "const a1 = arr1.pop();\n",
    "//弹出arr1最后一个元素 赋值给a1\n",
    "arr1.push(a1);\n",
    "//将a1添加到arr1最后\n",
    "const a2 = arr1.shift();\n",
    "//移出arr1第一个元素 赋值给a2\n",
    "arr1.unshift(a2);\n",
    "//将a2移入到arr1头部\n"
   ]
  },
  {
   "cell_type": "code",
   "execution_count": null,
   "metadata": {
    "vscode": {
     "languageId": "html"
    }
   },
   "outputs": [],
   "source": [
    "然后学习了作用域 和c语言基本相同 不再赘述"
   ]
  },
  {
   "cell_type": "markdown",
   "metadata": {},
   "source": [
    "之后是== ===\n",
    "在js中 1 == '1'为真 因为在运算时会强制类型转换 为了让两个不同的数据类型可以作比较\n",
    "而=== 则是严格相等运算符\n",
    "此时\n",
    "1 === '1' 为假\n",
    "严格相等运算符不会做类型转换"
   ]
  }
 ],
 "metadata": {
  "language_info": {
   "name": "python"
  },
  "orig_nbformat": 4
 },
 "nbformat": 4,
 "nbformat_minor": 2
}
