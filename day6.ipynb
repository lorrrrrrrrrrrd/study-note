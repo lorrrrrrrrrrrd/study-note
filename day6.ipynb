{
 "cells": [
  {
   "cell_type": "code",
   "execution_count": null,
   "metadata": {},
   "outputs": [],
   "source": [
    "CSS\n",
    "今天就开始正式学习CSS\n",
    "CSS全称 cascading style sheets\n",
    "cascading 层叠 级联\n",
    "sheets 工作表\n",
    "主要用于设置HTML的文本内容 字体 大小 对齐方式 排版布局等"
   ]
  },
  {
   "cell_type": "markdown",
   "metadata": {},
   "source": [
    "语法规范"
   ]
  },
  {
   "cell_type": "code",
   "execution_count": null,
   "metadata": {
    "vscode": {
     "languageId": "html"
    }
   },
   "outputs": [],
   "source": [
    "选择器{\n",
    "    属性:属性值;\n",
    "}"
   ]
  },
  {
   "cell_type": "markdown",
   "metadata": {},
   "source": [
    "依旧是键值对的方式 每一个属性写完后要用; 和c语言有点像"
   ]
  },
  {
   "cell_type": "markdown",
   "metadata": {},
   "source": [
    "标签选择器\n",
    "写上标签名 可以把某一类标签全部选择\n",
    "用于快速为某一标签设置统一样式\n",
    "不能进行差异化设置"
   ]
  },
  {
   "cell_type": "markdown",
   "metadata": {},
   "source": [
    "如我想要让页面中的<div>全部都变为红色字体"
   ]
  },
  {
   "cell_type": "code",
   "execution_count": null,
   "metadata": {
    "vscode": {
     "languageId": "html"
    }
   },
   "outputs": [],
   "source": [
    "div{\n",
    "    color:red;\n",
    "}\n",
    "<div>I am the first</div>\n",
    "<div>I am the second</div>"
   ]
  },
  {
   "cell_type": "markdown",
   "metadata": {},
   "source": [
    "上述两个div盒子内的字体都会是红色字体显示"
   ]
  },
  {
   "cell_type": "markdown",
   "metadata": {},
   "source": [
    "类选择器\n",
    "该选择器比较重要 可以单独选某个或某几个标签\n",
    "最常用 实现差异化设置"
   ]
  },
  {
   "cell_type": "code",
   "execution_count": null,
   "metadata": {
    "vscode": {
     "languageId": "html"
    }
   },
   "outputs": [],
   "source": [
    ".class name{\n",
    "    attribute:attribute value;\n",
    "}\n",
    "<div class='class'>I am an example</div>\n",
    "<div>I am an example</div>"
   ]
  },
  {
   "cell_type": "markdown",
   "metadata": {},
   "source": [
    "第一个div盒子内的显示内容将按照.class内的设置来显示\n",
    "第二个div盒子则原原本本地显示其中的内容"
   ]
  },
  {
   "cell_type": "markdown",
   "metadata": {},
   "source": [
    "一个标签内可以有多个类名\n",
    "<div class='example1 example2'></div>\n",
    "每个类名之间用空格隔开"
   ]
  },
  {
   "cell_type": "markdown",
   "metadata": {},
   "source": [
    "id选择器\n",
    "一个id选择器只能被调用一次"
   ]
  },
  {
   "cell_type": "code",
   "execution_count": null,
   "metadata": {
    "vscode": {
     "languageId": "html"
    }
   },
   "outputs": [],
   "source": [
    "#id name{\n",
    "    attribute:attribute value;\n",
    "}\n",
    "<div id='id'>121e1</div>"
   ]
  },
  {
   "cell_type": "markdown",
   "metadata": {},
   "source": [
    "于12_7学习id选择器时 想到之前学过的锚点链接 也是用id来进行操作\n",
    "\n",
    "于是在12_7 for study_note中进行尝试\n",
    "\n",
    "我发现在下述情况下\n",
    "\n",
    "```html\n",
    "<head>\n",
    "\t<style>\n",
    "\t\t#first{\n",
    "\t\t\tcolor:red;\n",
    "\t\t}\n",
    "\t</style>\n",
    "</head\n",
    "<a href='#first'>example</a>\n",
    "<a id='first'>anchor</a>\n",
    "```\n",
    "\n",
    "点击example 我会跳转到anchor 并且 anchor是红色\n",
    "\n",
    "即id实现了两个id共有的功能"
   ]
  },
  {
   "cell_type": "markdown",
   "metadata": {},
   "source": [
    "通配符选择器\n"
   ]
  },
  {
   "cell_type": "code",
   "execution_count": null,
   "metadata": {
    "vscode": {
     "languageId": "html"
    }
   },
   "outputs": [],
   "source": [
    "*{\n",
    "    color:red;\n",
    "}"
   ]
  },
  {
   "cell_type": "markdown",
   "metadata": {},
   "source": [
    "上述通配符 会把所有标签改成红色字体\n",
    "通配符标签用于给所有元素内部一个统一格式\n",
    "标签也不需要调用它"
   ]
  },
  {
   "cell_type": "markdown",
   "metadata": {},
   "source": [
    "然后是字体属性\n",
    "分为font-family字体系列 font-size字体大小 font-style字体风格 与字体复合属性"
   ]
  },
  {
   "cell_type": "markdown",
   "metadata": {},
   "source": [
    "字体系列font-family常用的是"
   ]
  },
  {
   "cell_type": "code",
   "execution_count": null,
   "metadata": {
    "vscode": {
     "languageId": "html"
    }
   },
   "outputs": [],
   "source": [
    "h1{\n",
    "    font-family:'Microsoft yahei';\n",
    "}"
   ]
  },
  {
   "cell_type": "markdown",
   "metadata": {},
   "source": [
    "上述代码就是把H1标题都改成了微软雅黑字体"
   ]
  },
  {
   "cell_type": "markdown",
   "metadata": {},
   "source": [
    "font-size 用于更改字体大小 单位是px pixel 像素"
   ]
  },
  {
   "cell_type": "code",
   "execution_count": null,
   "metadata": {
    "vscode": {
     "languageId": "html"
    }
   },
   "outputs": [],
   "source": [
    "<style>\n",
    "    body{\n",
    "        font-size:14px;\n",
    "    }\n",
    "</style>"
   ]
  },
  {
   "cell_type": "code",
   "execution_count": null,
   "metadata": {
    "vscode": {
     "languageId": "html"
    }
   },
   "outputs": [],
   "source": [
    "上述代码就是把body内字体都改成14像素\n",
    "值得注意的是 如果body内有标题标签 需要在style内单独指定标题标签的字体大小 不然不会更改"
   ]
  },
  {
   "cell_type": "markdown",
   "metadata": {},
   "source": [
    "font weight 用于指定字体粗细"
   ]
  },
  {
   "cell_type": "markdown",
   "metadata": {},
   "source": [
    "normal默认值 bold加粗 bolder更粗 lighter更细\n",
    "100\n",
    "200\n",
    "300\n",
    "400\n",
    "500\n",
    "600\n",
    "700\n",
    "800\n",
    "900\n",
    "都可以\n",
    "inherit从父元素继承"
   ]
  },
  {
   "cell_type": "markdown",
   "metadata": {},
   "source": [
    "400是normal 700是bold 用这两个的时候后面不需要加px\n"
   ]
  },
  {
   "cell_type": "markdown",
   "metadata": {},
   "source": [
    "font-style\n",
    "有italic 斜体 oblique 倾斜 inherit从父继承"
   ]
  },
  {
   "cell_type": "markdown",
   "metadata": {},
   "source": [
    "复合属性\n",
    "每次都敲上面四个属性会很麻烦\n",
    "可以省略为"
   ]
  },
  {
   "cell_type": "code",
   "execution_count": null,
   "metadata": {
    "vscode": {
     "languageId": "html"
    }
   },
   "outputs": [],
   "source": [
    "div{\n",
    "    font:italic bold 30px 'Microsoft yahei';\n",
    "}"
   ]
  },
  {
   "cell_type": "markdown",
   "metadata": {},
   "source": [
    "上述代码就会把div盒子规定为 斜体 加粗 30像素 微软雅黑\n",
    "注意 顺序必须为 style weight size family不能更改\n",
    "但是可以省略style weight直接输入后面的 30px 'microsoft yahei';也可以"
   ]
  },
  {
   "cell_type": "markdown",
   "metadata": {},
   "source": [
    "js学的东西都和c一样 不再赘述"
   ]
  }
 ],
 "metadata": {
  "language_info": {
   "name": "python"
  },
  "orig_nbformat": 4
 },
 "nbformat": 4,
 "nbformat_minor": 2
}
