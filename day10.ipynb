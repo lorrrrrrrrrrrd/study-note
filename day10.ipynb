{
 "cells": [
  {
   "cell_type": "code",
   "execution_count": null,
   "metadata": {},
   "outputs": [],
   "source": [
    "CSS的三大特性"
   ]
  },
  {
   "attachments": {},
   "cell_type": "markdown",
   "metadata": {},
   "source": [
    "层叠性\n",
    "相同选择器给设置相同的样式 此时一个样式会覆盖另一个\n",
    "样式冲突 遵循就近原则 哪个离结构近 就用哪个\n",
    "样式不冲突 不会重叠"
   ]
  },
  {
   "cell_type": "code",
   "execution_count": null,
   "metadata": {
    "vscode": {
     "languageId": "html"
    }
   },
   "outputs": [],
   "source": [
    "<style>\n",
    "    div{\n",
    "        color:red;\n",
    "        font-size:12px;\n",
    "    }\n",
    "    div{\n",
    "        color:pink;\n",
    "    }\n",
    "</style>"
   ]
  },
  {
   "attachments": {},
   "cell_type": "markdown",
   "metadata": {},
   "source": [
    "样式没有冲突 照样执行 此时div盒子的font-size是12px color是粉色"
   ]
  },
  {
   "attachments": {},
   "cell_type": "markdown",
   "metadata": {},
   "source": [
    "继承性\n",
    "子标签会继承父标签的某些样式 如文本颜色和字号\n",
    "可以从爷爷或者血缘更远的地方继承\n",
    "主要继承和文字相关的 text- font- line- 和color 但高度 盒子模型内外边距不会继承"
   ]
  },
  {
   "attachments": {},
   "cell_type": "markdown",
   "metadata": {},
   "source": [
    "特殊情况 行高的继承 子元素可以继承父元素行高\n",
    "行高可以跟单位也可以不跟单位"
   ]
  },
  {
   "attachments": {},
   "cell_type": "markdown",
   "metadata": {},
   "source": [
    "font:16px/1.5 'microsoft yahei'"
   ]
  },
  {
   "attachments": {},
   "cell_type": "markdown",
   "metadata": {},
   "source": [
    "1.5指的是当前文字大小 font-size的1.5倍行高\n",
    "从哪里继承的多大的文字大小 乘以多大的行高倍数"
   ]
  },
  {
   "attachments": {},
   "cell_type": "markdown",
   "metadata": {},
   "source": [
    "优先级\n",
    "当同一个元素指定多个选择器 就会有优先级的产生\n",
    "选择器相同 则执行层叠性\n",
    "选择器不同 则按选择器权重执行\n",
    "权重从低到高：\n",
    "继承 或 * 0 0 0 0\n",
    "元素选择器（标签选择器） 0 0 0 1\n",
    "类选择器，伪类选择器 0 0 1 0\n",
    "ID选择器 0 1 0 0 \n",
    "行内样式 style=‘’ 1 0 0 0\n",
    "!important ∞"
   ]
  },
  {
   "attachments": {},
   "cell_type": "markdown",
   "metadata": {},
   "source": [
    "div{color:red!important;}//important使用\n",
    "这样就会不论别的 优先把div改成红的\n",
    "a不会从父级继承样式\n",
    "因为a链接 浏览器默认有一个蓝色下划线的样式\n",
    "继承权重为0 所以浏览器默认把他覆盖了"
   ]
  },
  {
   "attachments": {},
   "cell_type": "markdown",
   "metadata": {},
   "source": [
    "优先级权重叠加"
   ]
  },
  {
   "cell_type": "code",
   "execution_count": null,
   "metadata": {
    "vscode": {
     "languageId": "html"
    }
   },
   "outputs": [],
   "source": [
    "<style>\n",
    "li{\n",
    "    color:red;\n",
    "}\n",
    "ul li{\n",
    "    color:green;\n",
    "}\n",
    "</style>\n",
    "<body>\n",
    "    <ul>\n",
    "        <li>1</li>\n",
    "        <li>2</li>\n",
    "        <li>3</li>\n",
    "    </ul>\n",
    "</body>"
   ]
  },
  {
   "attachments": {},
   "cell_type": "markdown",
   "metadata": {},
   "source": [
    "最后是绿色的 可见ul li权重大\n",
    "ul li 都是标签选择器 0 0 0 1+ 0 0 0 1 = 0 0 0 2\n",
    "li是一个 只有0 0 0 1\n",
    "别的以此类推 更多案例见笔记\n",
    "如果有是个标签选择器叠加 就变成 0 0 0 10 不会有进位\n",
    "也就是说 高位的永远比地位的大"
   ]
  }
 ],
 "metadata": {
  "language_info": {
   "name": "python"
  },
  "orig_nbformat": 4
 },
 "nbformat": 4,
 "nbformat_minor": 2
}
