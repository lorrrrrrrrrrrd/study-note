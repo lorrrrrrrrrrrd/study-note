{
 "cells": [
  {
   "cell_type": "markdown",
   "metadata": {},
   "source": [
    "c\n",
    "今天看课对!-逻辑反操作符有疑问\n",
    "! 是逻辑反操作 能不能用!<实现 不小于\n",
    "结果不能 研究了下发现\n",
    "! 和 != 是c语言内置的\n",
    "! 是逻辑反操作单目操作符\n",
    "!= 是c语言内置的不等于 而不是由 ! 和 =赋值操作符搭配组成的\n"
   ]
  },
  {
   "cell_type": "markdown",
   "metadata": {},
   "source": [
    "html\n",
    "列表标签\n",
    "分为有序列表 无序列表 自定义列表\n"
   ]
  },
  {
   "cell_type": "markdown",
   "metadata": {},
   "source": [
    "有序列表 ordered list ol\n",
    "内部用li填写"
   ]
  },
  {
   "cell_type": "code",
   "execution_count": null,
   "metadata": {
    "vscode": {
     "languageId": "html"
    }
   },
   "outputs": [],
   "source": [
    "<ol>\n",
    "    <li>first</li>\n",
    "    <li>second</li>\n",
    "</ol>"
   ]
  },
  {
   "cell_type": "markdown",
   "metadata": {},
   "source": [
    "first second 前面会自动带 1. 2."
   ]
  },
  {
   "cell_type": "markdown",
   "metadata": {},
   "source": [
    "无序列表 unordered list ul\n",
    "在ul中只能嵌套li 不能嵌套别的\n",
    "li内可以嵌套所有元素"
   ]
  },
  {
   "cell_type": "code",
   "execution_count": null,
   "metadata": {
    "vscode": {
     "languageId": "html"
    }
   },
   "outputs": [],
   "source": [
    "<ul>\n",
    "    <li>first</li>\n",
    "    <li>second</li>\n",
    "</ul>"
   ]
  },
  {
   "cell_type": "markdown",
   "metadata": {},
   "source": [
    "first second 前面没有1. 2.是并列关系"
   ]
  },
  {
   "cell_type": "markdown",
   "metadata": {},
   "source": [
    "自定义列表 definition list\n",
    "内有两个元素\n",
    "definition term dt\n",
    "definition description"
   ]
  },
  {
   "cell_type": "code",
   "execution_count": null,
   "metadata": {
    "vscode": {
     "languageId": "html"
    }
   },
   "outputs": [],
   "source": [
    "<dl>\n",
    "    <dt>名词1</dt>\n",
    "    <dd>名词1解释1</dd>\n",
    "    <dd>名词1解释2</dd>\n",
    "</dl>"
   ]
  },
  {
   "cell_type": "markdown",
   "metadata": {},
   "source": [
    "自定义列表用于自定义的解释和描述\n",
    "比如一个线上商场网页\n",
    "下面有 “联系我们”\n",
    "下面可以写上“微博” “QQ” “微信”"
   ]
  },
  {
   "cell_type": "code",
   "execution_count": null,
   "metadata": {
    "vscode": {
     "languageId": "html"
    }
   },
   "outputs": [],
   "source": [
    "<dl>\n",
    "    <dt>联系我们</dt>\n",
    "    <dd>微博</dd>\n",
    "    <dd>qq</dd>\n",
    "    <dd>微信</dd>\n",
    "</dl>"
   ]
  }
 ],
 "metadata": {
  "language_info": {
   "name": "python"
  },
  "orig_nbformat": 4
 },
 "nbformat": 4,
 "nbformat_minor": 2
}
