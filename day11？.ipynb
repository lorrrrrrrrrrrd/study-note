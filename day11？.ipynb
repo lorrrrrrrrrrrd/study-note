{
 "cells": [
  {
   "cell_type": "markdown",
   "metadata": {},
   "source": [
    "盒子模型的组成<br>\n",
    "盒子模型由边框border<br>\n",
    "内容 content<br>\n",
    "内边距 padding<br>\n",
    "外边距 margin组成<br>\n"
   ]
  },
  {
   "attachments": {},
   "cell_type": "markdown",
   "metadata": {},
   "source": [
    "boder：width|color|style<br>\n",
    "width设置宽度<br>\n",
    "color设置颜色<br>\n",
    "style设置样式<br>\n",
    "最常用的样式是solid 实线 dotted点线 dashed虚线<br>\n",
    "可以单独设置上下左右边<br>\n",
    "border-top以此类推<br>\n",
    "border-collapse可以合并相邻边框<br>"
   ]
  },
  {
   "attachments": {},
   "cell_type": "markdown",
   "metadata": {},
   "source": [
    "边框会影响盒子的实际大小 比如盒子是200x64<br>\n",
    "我设置了一个10px的边框<br>\n",
    "那么最终盒子就是220x84<br>"
   ]
  },
  {
   "attachments": {},
   "cell_type": "markdown",
   "metadata": {},
   "source": [
    "圆角边框<br>\n",
    "border-raidus:length;<br>\n",
    "radius是半径的意思<br>\n",
    "创建一个半径为length的圆 之后与每个边角相切 之后以两点为起始点和终点走圆弧 变成圆角边框<br>\n",
    "参数值可以是百分比也可以是具体数值<br>\n",
    "我想弄个胶囊样式 也就是两头都是半圆 我可以让radius=height/2<br>\n",
    "我想做一个圆出来 我可以让radius=height/2 前提是盒子是正方形<br>\n",
    "border-radius：左上角 为起始点 顺时针旋转 可以单独设置每个边角<br>\n",
    "两个数值：左上 右下|右上 左下<br>\n",
    "三个数值：左上|右上 左下|右下<br>"
   ]
  },
  {
   "attachments": {},
   "cell_type": "markdown",
   "metadata": {},
   "source": [
    "内容 content<br>\n",
    "内边距 padding<br>\n",
    "padding-top 以此类推<br>\n",
    "复合写法：一个值上下左右 两个值上下 左右 三个值 上 左右 下<br>\n",
    "内边距也会影响盒子实际大小<br>\n",
    "外边距<br>\n",
    "margin<br>\n",
    "复合写法和padding一样<br>\n",
    "外边距可以实现盒子水平居中 必须满足以下条件<br>\n",
    "1.盒子必须有宽度<br>\n",
    "2.盒子的左右外边距都设置为auto  \n",
    "外边距会有塌陷情况   \n",
    "对于两个嵌套关系的块元素  \n",
    "父元素有上外边距 子元素也有上外边距 此时父元素会塌陷较大的外边距值  \n",
    "我本意是让子元素在父元素内 用外边距撑开距离 而实际效果是 父元素带着子元素一起向下走更大的那个margin值  \n",
    "解决方案：可以为父元素定义上边框  \n",
    "可以为父元素定义上内边距  \n",
    "可以为父元素添加overflow:hidden  \n",
    "清除内外边距"
   ]
  },
  {
   "cell_type": "code",
   "execution_count": null,
   "metadata": {
    "vscode": {
     "languageId": "html"
    }
   },
   "outputs": [],
   "source": [
    "*{\n",
    "    padding:0;\n",
    "    margin:0;\n",
    "}"
   ]
  },
  {
   "attachments": {},
   "cell_type": "markdown",
   "metadata": {},
   "source": [
    "每个标签都有默认的内外边距 这个代码可以清楚他们 让他们都没有自设的内外边距 方便布局  "
   ]
  },
  {
   "attachments": {},
   "cell_type": "markdown",
   "metadata": {},
   "source": [
    "盒子阴影  \n",
    "box-shadow  \n",
    "/* x 偏移量 | y 偏移量 | 阴影颜色 */\n",
    "box-shadow: 60px -16px teal;\n",
    "\n",
    "/* x 偏移量 | y 偏移量 | 阴影模糊半径 | 阴影颜色 */\n",
    "box-shadow: 10px 5px 5px black;\n",
    "\n",
    "/* x 偏移量 | y 偏移量 | 阴影模糊半径 | 阴影扩散半径 | 阴影颜色 */\n",
    "box-shadow: 2px 2px 2px 1px rgba(0, 0, 0, 0.2);\n",
    "\n",
    "/* 插页 (阴影向内) | x 偏移量 | y 偏移量 | 阴影颜色 */\n",
    "box-shadow: inset 5em 1em gold;\n",
    "\n",
    "/* 任意数量的阴影，以逗号分隔 */\n",
    "box-shadow: 3px 3px red, -1em 0 0.4em olive;\n",
    "\n",
    "/* 全局关键字 */\n",
    "box-shadow: inherit;\n",
    "box-shadow: initial;\n",
    "box-shadow: unset;"
   ]
  },
  {
   "attachments": {},
   "cell_type": "markdown",
   "metadata": {},
   "source": [
    "h-shadow必须 水平位置阴影 允许负值  \n",
    "v-shadow必须 垂直位置阴影 允许负值  \n",
    "blur 可选 模糊距离  \n",
    "spread 可选 阴影尺寸  \n",
    "color 可选 阴影颜色  \n",
    "inset 可选 将内部阴影改为外部阴影  "
   ]
  },
  {
   "attachments": {},
   "cell_type": "markdown",
   "metadata": {},
   "source": [
    "文字阴影 text-shadow  \n",
    "text-shadow:h-shadow v-shadow blur color;  \n",
    "与盒子阴影相比 只有四个属性值 x y轴和之前研究的一样 y向下为正  \n"
   ]
  },
  {
   "attachments": {},
   "cell_type": "markdown",
   "metadata": {},
   "source": [
    "浮动  \n",
    "传统网页布局 有三种方式  \n",
    "标准流 就是把标签按照规定好的默认方式排列 以前学的都是这样的  \n",
    "浮动  \n",
    "定位  \n",
    "为什么需要浮动\n",
    "在标准流模式下 很难实现让多个块级盒子在一行显示 和 让两个盒子左右对齐\n",
    "这时候可以用浮动  \n",
    "多个块级元素纵向排列用标准流  \n",
    "多个块级元素横向排列用浮动  \n"
   ]
  },
  {
   "cell_type": "code",
   "execution_count": null,
   "metadata": {
    "vscode": {
     "languageId": "html"
    }
   },
   "outputs": [],
   "source": [
    "选择器{float:attribute};"
   ]
  },
  {
   "attachments": {},
   "cell_type": "markdown",
   "metadata": {},
   "source": [
    "none 元素不浮动 left 向左浮动 right 向右浮动  \n",
    "浮动贴着浮动  \n",
    "浮动特性：\n",
    "1.脱离标准流的控制 浮起来 移动到指定位置 动起来 俗称脱标  \n",
    "2.浮动的盒子不在保留原先的位置  \n",
    "任何添加了浮动的元素都具有行内块元素特点  \n",
    "浮动元素经常和标准流父级元素搭配使用  \n",
    "一个元素浮动了 理论上其他兄弟元素也应该浮动  \n",
    "浮动的盒子只会影响浮动盒子后面的标准流 不会影响前面的标准流  \n",
    "具体可以看12_21的html文件 被我研究完了我只能说\n"
   ]
  },
  {
   "attachments": {},
   "cell_type": "markdown",
   "metadata": {},
   "source": [
    "清除浮动：我目前只研究了 额外标签法 也就是隔墙法的 both 用法 明天研究一下left和right\n",
    "为什么需要清除浮动？ 父级没高度 子盒子浮动了 影响了布局 就需要清除浮动\n",
    "也就是想要做一个 子元素自动填充进父元素的页面 就需要清除浮动\n",
    "1.clear  \n",
    "**我在浮动元素之后的一个盒子 添加了clear 清除浮动**\n",
    "\n",
    "**之后他会自动去所有浮动元素的下面 他是一个块级元素 他占一整行 它本身不具有高度 所以他刚好卡在我指定的父级元素的边界 相当于变相给了父级元素一个高度 可以让他自由扩展**\n",
    "2.父级元素添加overflow  \n",
    "可以给父级元素添加overflow 将其属性值设置为 hidden auto 或 scroll\n",
    "\n",
    "**注意 是给父级元素添加**\n",
    "3.给父级元素添加after伪元素  \n",
    "4.父级元素添加双伪元素  \n",
    "2 3 4目前不理解为什么这么做 能浅薄理解的只有clear"
   ]
  }
 ],
 "metadata": {
  "language_info": {
   "name": "python"
  },
  "orig_nbformat": 4
 },
 "nbformat": 4,
 "nbformat_minor": 2
}
