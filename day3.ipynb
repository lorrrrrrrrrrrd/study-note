{
 "cells": [
  {
   "cell_type": "markdown",
   "metadata": {},
   "source": [
    "html\n",
    "今天先学了路径 相对路径和绝对路径\n",
    "相对路径即你的目标路径相对于你当前位置的路径 在后续的小结中 使用相对路径出现了问题 因为我使用了\"/\"来进入同目录文件夹 引发了图片加载不出的问题 具体在typora有详细的记录\n",
    "绝对路径就是该图片在你电脑中的路径 常以盘符开头"
   ]
  },
  {
   "cell_type": "markdown",
   "metadata": {},
   "source": [
    "然后是比较重要的超链接标签\n"
   ]
  },
  {
   "cell_type": "code",
   "execution_count": null,
   "metadata": {
    "vscode": {
     "languageId": "html"
    }
   },
   "outputs": [],
   "source": [
    "<a href='目标URL' target=\"_self or _blank\">文本或图像</a>"
   ]
  },
  {
   "cell_type": "markdown",
   "metadata": {},
   "source": [
    "上述就是基本格式 目标URL就是你意图访问的网址 target能指定是在该网页中打开 也就是替换本网页 _self 或者是创立一个新网页打开 _blank\n",
    "能够使用文本 图像 音频 视频 表格的方式存储链接"
   ]
  },
  {
   "cell_type": "markdown",
   "metadata": {},
   "source": [
    "href也能指向内部链接 比如在当前目录下有个文件叫day1.html 可以用href=\"day1.html\"的方式指向他\n",
    "空链接 href=\"#\" 通常用于网站没做好 点击之后不会跳转"
   ]
  },
  {
   "cell_type": "markdown",
   "metadata": {},
   "source": [
    "下载链接 链接如果是一个.exe .zip等压缩包格式 或是一个文件 会自动下载"
   ]
  },
  {
   "cell_type": "markdown",
   "metadata": {},
   "source": [
    "锚点链接 比如百度中的明星个人简介 其中会有很多大板块 使用锚点链接可以快速跳转"
   ]
  },
  {
   "cell_type": "code",
   "execution_count": null,
   "metadata": {
    "vscode": {
     "languageId": "html"
    }
   },
   "outputs": [],
   "source": [
    "<a href=\"#first\"></a> //命名锚点为first\n",
    "<a id=\"first\"></a>//跳转到锚点first"
   ]
  },
  {
   "cell_type": "markdown",
   "metadata": {},
   "source": [
    "特殊字符 常用的有&nbsp;空格 &lt;小于号 &gt;大于号"
   ]
  },
  {
   "cell_type": "markdown",
   "metadata": {},
   "source": [
    "然后是表格标签\n",
    "标签较多"
   ]
  },
  {
   "cell_type": "code",
   "execution_count": null,
   "metadata": {
    "vscode": {
     "languageId": "html"
    }
   },
   "outputs": [],
   "source": [
    "<table></table>定义表格的标签 所有表格标签都要放在这里面\n",
    "<tr></tr>table row 定义表格中的行\n",
    "<td></td>table data 表格中的单元格\n",
    "<th></th> table head表头单元格 其会加粗且居中显示\n",
    "\n"
   ]
  },
  {
   "cell_type": "markdown",
   "metadata": {},
   "source": [
    "属性有align.left&right&center 表格在网页中靠左 靠右 居中\n",
    "border 表格是否具有边框\n",
    "cellpadding 单元边沿和内容之间的空白\n",
    "cellspacing 单元格之间的空白\n",
    "width 宽度 height 高度"
   ]
  },
  {
   "cell_type": "markdown",
   "metadata": {},
   "source": [
    "因为表格可能很长 所以定义了<thead></thead>\n",
    "代表整个表头的大区域 而非th定义的单元格"
   ]
  },
  {
   "cell_type": "markdown",
   "metadata": {},
   "source": [
    "合并单元格 操作对象是单元格 也就是td\n",
    "rowspan跨行合并 colspan跨列合并"
   ]
  },
  {
   "cell_type": "markdown",
   "metadata": {},
   "source": [
    "\n",
    "在合并单元格时 用到了\\<td colspan='3'>\\</td>\n",
    "\n",
    "上述是列方向合并三个单元格\n",
    "\n",
    "但是合并之后还要删去因为合并后多出来的两个\n",
    "\n",
    "span是跨越 范围 跨度的意思\n",
    "\n",
    "在我看来 colspan更像是指定一个单元格在整体框架下的大小\n",
    "\n",
    "\\<td colspan='3'>\\</td>就是创造一个列方向三个单元格大小的单元格\n",
    "\n"
   ]
  }
 ],
 "metadata": {
  "language_info": {
   "name": "python"
  },
  "orig_nbformat": 4
 },
 "nbformat": 4,
 "nbformat_minor": 2
}
